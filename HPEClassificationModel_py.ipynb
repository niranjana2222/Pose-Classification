{
  "nbformat": 4,
  "nbformat_minor": 0,
  "metadata": {
    "colab": {
      "provenance": [],
      "include_colab_link": true
    },
    "kernelspec": {
      "name": "python3",
      "display_name": "Python 3"
    },
    "language_info": {
      "name": "python"
    }
  },
  "cells": [
    {
      "cell_type": "markdown",
      "metadata": {
        "id": "view-in-github",
        "colab_type": "text"
      },
      "source": [
        "<a href=\"https://colab.research.google.com/github/niranjana2222/Pose-Classification/blob/main/HPEClassificationModel_py.ipynb\" target=\"_parent\"><img src=\"https://colab.research.google.com/assets/colab-badge.svg\" alt=\"Open In Colab\"/></a>"
      ]
    },
    {
      "cell_type": "code",
      "execution_count": null,
      "metadata": {
        "id": "5ZSEBWvGxJPp"
      },
      "outputs": [],
      "source": [
        "# Import libraries\n",
        "\n",
        "import pandas as pd \n",
        "import numpy as np \n",
        "import matplotlib.pyplot as plt \n",
        "import matplotlib.image as mpimg \n",
        "import tensorflow as tf\n",
        "\n",
        "import os\n",
        "\n",
        "import random"
      ]
    },
    {
      "cell_type": "code",
      "source": [
        "# Accessing the training and testing data (NEED TO FIX THIS PART)\n",
        "\n",
        "train_dir = '../input/yoga-poses-dataset/DATASET/TRAIN'\n",
        "test_dir = '../input/yoga-poses-dataset/DATASET/TEST'\n"
      ],
      "metadata": {
        "id": "fBbAsDZqH8ET"
      },
      "execution_count": null,
      "outputs": []
    },
    {
      "cell_type": "code",
      "source": [
        "# Plot a few of the training images of each class\n",
        "\n",
        "def plot_yoga_images(train_dir):\n",
        "    plt.figure(figsize = (15,15))\n",
        "    for i, col in enumerate(os.listdir(train_dir)):\n",
        "        image = random.choice(os.listdir(train_dir + '/' + col))\n",
        "        image_path = train_dir + '/' + col + '/' + image\n",
        "        img = mpimg.imread(image_path)/255\n",
        "\n",
        "        plt.subplot(3,3,i+1)\n",
        "        plt.title(col)\n",
        "        plt.imshow(img)\n",
        "        plt.axis(False)\n",
        "        i = i + 1\n",
        "\n",
        "plot_yoga_images(train_dir)"
      ],
      "metadata": {
        "id": "rCSyyVFnIHO5"
      },
      "execution_count": null,
      "outputs": []
    },
    {
      "cell_type": "code",
      "source": [
        "# Preprocessing\n",
        "\n",
        "from PIL import ImageFile\n",
        "ImageFile.LOAD_TRUNCATED_IMAGES = True\n",
        "\n",
        "# creating data loaders for preparing the data \n",
        "from tensorflow.keras.preprocessing.image import ImageDataGenerator\n",
        "\n",
        "IMAGE_SHAPE = (224,224)\n",
        "BATCH_SIZE = 32 \n",
        "\n",
        "# createing data generators \n",
        "train_datagen = ImageDataGenerator(rescale = 1 / 255.)\n",
        "test_datagen = ImageDataGenerator(rescale = 1 / 255.)\n",
        "\n",
        "print('Training Images')\n",
        "train_data = train_datagen.flow_from_directory(\n",
        "  train_dir,\n",
        "  target_size = IMAGE_SHAPE,\n",
        "  batch_size = BATCH_SIZE,\n",
        "  class_mode = 'categorical'\n",
        ")\n",
        "\n",
        "print('Testing Images')\n",
        "test_data = test_datagen.flow_from_directory(\n",
        "  test_dir,\n",
        "  target_size = IMAGE_SHAPE,\n",
        "  batch_size = BATCH_SIZE,\n",
        "  class_mode = 'categorical'\n",
        ")"
      ],
      "metadata": {
        "id": "SxHcJjUNIaX9"
      },
      "execution_count": null,
      "outputs": []
    },
    {
      "cell_type": "code",
      "source": [
        "# import tensorflow and create the model\n",
        "\n",
        "import tensorflow_hub as hub \n",
        "from tensorflow.keras import layers\n",
        "\n",
        "efficientnet_url = 'https://tfhub.dev/tensorflow/efficientnet/b0/feature-vector/1'\n",
        "resnet_url = 'https://tfhub.dev/google/imagenet/resnet_v2_50/feature_vector/5'\n",
        "\n",
        "\n",
        "# function for creating model\n",
        "def create_model(model_url, num_classes = 2):\n",
        "  \n",
        "  feature_extractor_layer = hub.KerasLayer(\n",
        "      model_url,\n",
        "      trainable = False, \n",
        "      name = 'feature_extraction_layer',\n",
        "      input_shape = IMAGE_SHAPE + (3,)\n",
        "  )\n",
        "  model = tf.keras.Sequential([\n",
        "    feature_extractor_layer,\n",
        "    layers.Dense(\n",
        "        num_classes, \n",
        "        activation = 'softmax',\n",
        "        name = 'output_layer'\n",
        "    )\n",
        "  ])\n",
        "\n",
        "  return model "
      ],
      "metadata": {
        "id": "J3EMeSIFBQ9P"
      },
      "execution_count": null,
      "outputs": []
    },
    {
      "cell_type": "code",
      "source": [
        "# function to plot the loss\n",
        "\n",
        "def plot_loss(history):\n",
        "      model_df = pd.DataFrame(history.history)\n",
        "      loss = model_df.loss\n",
        "      val_loss = model_df.val_loss\n",
        "      accuracy = model_df.accuracy\n",
        "      val_accuracy = model_df.val_accuracy\n",
        "\n",
        "      epochs = range(len(model_df.loss))\n",
        "      # plotting loss \n",
        "      plt.figure(figsize = (7,5))\n",
        "      plt.title(\n",
        "          'Loss'\n",
        "      )\n",
        "      plt.xlabel(\n",
        "          'Epochs'\n",
        "      )\n",
        "      plt.plot(\n",
        "          epochs,\n",
        "          loss, \n",
        "          label = 'Training loss'\n",
        "      )\n",
        "      plt.plot(\n",
        "          epochs, \n",
        "          val_loss, \n",
        "          label = 'Validation loss'\n",
        "      )\n",
        "      plt.legend()\n",
        "\n",
        "      # plotting accuracy \n",
        "      plt.figure(figsize=(7,5))\n",
        "      plt.title(\n",
        "          'Accuracy'\n",
        "      )\n",
        "      plt.xlabel(\n",
        "          'Epochs'\n",
        "      )\n",
        "      plt.plot(\n",
        "          epochs, \n",
        "          accuracy,\n",
        "          label = 'training accuracy',\n",
        "      )\n",
        "      plt.plot(\n",
        "          epochs, \n",
        "          val_accuracy,\n",
        "          label = 'validation accuracy'\n",
        "      )\n",
        "      plt.legend()"
      ],
      "metadata": {
        "id": "B-Rx7IKvBYZK"
      },
      "execution_count": null,
      "outputs": []
    },
    {
      "cell_type": "code",
      "source": [
        "# training the ResNet model\n",
        "\n",
        "resnet_model = create_model(\n",
        "    resnet_url,\n",
        "    num_classes = train_data.num_classes\n",
        ")\n",
        "\n",
        "# Compile the model \n",
        "resnet_model.compile(\n",
        "    loss = tf.keras.losses.CategoricalCrossentropy(),\n",
        "    optimizer = tf.keras.optimizers.Adam(),\n",
        "    metrics = ['accuracy']\n",
        ")\n",
        "\n",
        "# Fitting the model \n",
        "resnet_history = resnet_model.fit(\n",
        "    train_data,\n",
        "    epochs = 5,\n",
        "    steps_per_epoch = len(train_data),\n",
        "    validation_data = test_data,\n",
        "    validation_steps = len(test_data)\n",
        ")\n",
        "\n",
        "# Plot the loss\n",
        "\n",
        "plot_loss(resnet_history)\n"
      ],
      "metadata": {
        "id": "W2mjLD0zBi2-"
      },
      "execution_count": null,
      "outputs": []
    },
    {
      "cell_type": "code",
      "source": [],
      "metadata": {
        "id": "6zK4aiIpBuow"
      },
      "execution_count": null,
      "outputs": []
    }
  ]
}